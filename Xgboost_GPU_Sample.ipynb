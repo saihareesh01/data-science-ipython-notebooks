{
  "nbformat": 4,
  "nbformat_minor": 0,
  "metadata": {
    "colab": {
      "name": "Xgboost_GPU_Sample.ipynb",
      "provenance": [],
      "authorship_tag": "ABX9TyOV44zW2fX3Ao067riOaPpG",
      "include_colab_link": true
    },
    "kernelspec": {
      "name": "python3",
      "display_name": "Python 3"
    }
  },
  "cells": [
    {
      "cell_type": "markdown",
      "metadata": {
        "id": "view-in-github",
        "colab_type": "text"
      },
      "source": [
        "<a href=\"https://colab.research.google.com/github/saihareesh01/data-science-ipython-notebooks/blob/develop/Xgboost_GPU_Sample.ipynb\" target=\"_parent\"><img src=\"https://colab.research.google.com/assets/colab-badge.svg\" alt=\"Open In Colab\"/></a>"
      ]
    },
    {
      "cell_type": "code",
      "metadata": {
        "id": "3Aic9SCItfGy",
        "colab_type": "code",
        "colab": {}
      },
      "source": [
        "# from google.colab import files\n",
        "# files.upload()"
      ],
      "execution_count": 1,
      "outputs": []
    },
    {
      "cell_type": "code",
      "metadata": {
        "id": "4_1hwJsCyDmp",
        "colab_type": "code",
        "colab": {
          "base_uri": "https://localhost:8080/",
          "height": 122
        },
        "outputId": "51a032ba-bba3-4fd1-ea67-9f03d032e580"
      },
      "source": [
        "from google.colab import drive\n",
        "drive.mount('/content/drive/')"
      ],
      "execution_count": 2,
      "outputs": [
        {
          "output_type": "stream",
          "text": [
            "Go to this URL in a browser: https://accounts.google.com/o/oauth2/auth?client_id=947318989803-6bn6qk8qdgf4n4g3pfee6491hc0brc4i.apps.googleusercontent.com&redirect_uri=urn%3aietf%3awg%3aoauth%3a2.0%3aoob&scope=email%20https%3a%2f%2fwww.googleapis.com%2fauth%2fdocs.test%20https%3a%2f%2fwww.googleapis.com%2fauth%2fdrive%20https%3a%2f%2fwww.googleapis.com%2fauth%2fdrive.photos.readonly%20https%3a%2f%2fwww.googleapis.com%2fauth%2fpeopleapi.readonly&response_type=code\n",
            "\n",
            "Enter your authorization code:\n",
            "··········\n",
            "Mounted at /content/drive/\n"
          ],
          "name": "stdout"
        }
      ]
    },
    {
      "cell_type": "code",
      "metadata": {
        "id": "EVjeckx_17AT",
        "colab_type": "code",
        "colab": {
          "base_uri": "https://localhost:8080/",
          "height": 34
        },
        "outputId": "0eb5d1b5-65de-44ac-af84-4c9158870eea"
      },
      "source": [
        "!pwd"
      ],
      "execution_count": 3,
      "outputs": [
        {
          "output_type": "stream",
          "text": [
            "/content\n"
          ],
          "name": "stdout"
        }
      ]
    },
    {
      "cell_type": "markdown",
      "metadata": {
        "id": "Zr5XVALJvpqW",
        "colab_type": "text"
      },
      "source": [
        ""
      ]
    },
    {
      "cell_type": "code",
      "metadata": {
        "id": "xQLzvfoIvqLE",
        "colab_type": "code",
        "colab": {
          "base_uri": "https://localhost:8080/",
          "height": 221
        },
        "outputId": "31a6cf13-a742-4d68-a423-d1c122e1339b"
      },
      "source": [
        "!pip uninstall xgboost\n",
        "!pip install /content/drive/My\\ Drive/Data/xgboost-1.2.0-py3-none-manylinux2010_x86_64.whl"
      ],
      "execution_count": 4,
      "outputs": [
        {
          "output_type": "stream",
          "text": [
            "Uninstalling xgboost-0.90:\n",
            "  Would remove:\n",
            "    /usr/local/lib/python3.6/dist-packages/xgboost-0.90.dist-info/*\n",
            "    /usr/local/lib/python3.6/dist-packages/xgboost/*\n",
            "    /usr/local/xgboost/libxgboost.so\n",
            "Proceed (y/n)? y\n",
            "  Successfully uninstalled xgboost-0.90\n",
            "Processing ./drive/My Drive/Data/xgboost-1.2.0-py3-none-manylinux2010_x86_64.whl\n",
            "Requirement already satisfied: numpy in /usr/local/lib/python3.6/dist-packages (from xgboost==1.2.0) (1.18.5)\n",
            "Requirement already satisfied: scipy in /usr/local/lib/python3.6/dist-packages (from xgboost==1.2.0) (1.4.1)\n",
            "Installing collected packages: xgboost\n",
            "Successfully installed xgboost-1.2.0\n"
          ],
          "name": "stdout"
        }
      ]
    },
    {
      "cell_type": "code",
      "metadata": {
        "id": "32k8XN-r2ogL",
        "colab_type": "code",
        "colab": {
          "base_uri": "https://localhost:8080/",
          "height": 1000
        },
        "outputId": "ca6e0887-15cc-4434-9cd8-a0f3414f5bc3"
      },
      "source": [
        "\n",
        "!pip install witwidget"
      ],
      "execution_count": 5,
      "outputs": [
        {
          "output_type": "stream",
          "text": [
            "Collecting witwidget\n",
            "\u001b[?25l  Downloading https://files.pythonhosted.org/packages/a9/12/d61b3104cde5181e3340dbd7620885d4127f62e0ef4f738786e226683127/witwidget-1.7.0-py3-none-any.whl (2.3MB)\n",
            "\u001b[K     |████████████████████████████████| 2.3MB 2.8MB/s \n",
            "\u001b[?25hRequirement already satisfied: ipywidgets>=7.0.0 in /usr/local/lib/python3.6/dist-packages (from witwidget) (7.5.1)\n",
            "Requirement already satisfied: google-api-python-client>=1.7.8 in /usr/local/lib/python3.6/dist-packages (from witwidget) (1.7.12)\n",
            "Requirement already satisfied: oauth2client>=4.1.3 in /usr/local/lib/python3.6/dist-packages (from witwidget) (4.1.3)\n",
            "Requirement already satisfied: six>=1.12.0 in /usr/local/lib/python3.6/dist-packages (from witwidget) (1.15.0)\n",
            "Requirement already satisfied: tensorflow>=1.12.1 in /usr/local/lib/python3.6/dist-packages (from witwidget) (2.3.0)\n",
            "Requirement already satisfied: jupyter<2,>=1.0 in /usr/local/lib/python3.6/dist-packages (from witwidget) (1.0.0)\n",
            "Requirement already satisfied: absl-py>=0.4 in /usr/local/lib/python3.6/dist-packages (from witwidget) (0.8.1)\n",
            "Requirement already satisfied: ipython>=4.0.0; python_version >= \"3.3\" in /usr/local/lib/python3.6/dist-packages (from ipywidgets>=7.0.0->witwidget) (5.5.0)\n",
            "Requirement already satisfied: ipykernel>=4.5.1 in /usr/local/lib/python3.6/dist-packages (from ipywidgets>=7.0.0->witwidget) (4.10.1)\n",
            "Requirement already satisfied: nbformat>=4.2.0 in /usr/local/lib/python3.6/dist-packages (from ipywidgets>=7.0.0->witwidget) (5.0.7)\n",
            "Requirement already satisfied: traitlets>=4.3.1 in /usr/local/lib/python3.6/dist-packages (from ipywidgets>=7.0.0->witwidget) (4.3.3)\n",
            "Requirement already satisfied: widgetsnbextension~=3.5.0 in /usr/local/lib/python3.6/dist-packages (from ipywidgets>=7.0.0->witwidget) (3.5.1)\n",
            "Requirement already satisfied: uritemplate<4dev,>=3.0.0 in /usr/local/lib/python3.6/dist-packages (from google-api-python-client>=1.7.8->witwidget) (3.0.1)\n",
            "Requirement already satisfied: google-auth>=1.4.1 in /usr/local/lib/python3.6/dist-packages (from google-api-python-client>=1.7.8->witwidget) (1.17.2)\n",
            "Requirement already satisfied: httplib2<1dev,>=0.17.0 in /usr/local/lib/python3.6/dist-packages (from google-api-python-client>=1.7.8->witwidget) (0.17.4)\n",
            "Requirement already satisfied: google-auth-httplib2>=0.0.3 in /usr/local/lib/python3.6/dist-packages (from google-api-python-client>=1.7.8->witwidget) (0.0.4)\n",
            "Requirement already satisfied: pyasn1>=0.1.7 in /usr/local/lib/python3.6/dist-packages (from oauth2client>=4.1.3->witwidget) (0.4.8)\n",
            "Requirement already satisfied: pyasn1-modules>=0.0.5 in /usr/local/lib/python3.6/dist-packages (from oauth2client>=4.1.3->witwidget) (0.2.8)\n",
            "Requirement already satisfied: rsa>=3.1.4 in /usr/local/lib/python3.6/dist-packages (from oauth2client>=4.1.3->witwidget) (4.6)\n",
            "Requirement already satisfied: google-pasta>=0.1.8 in /usr/local/lib/python3.6/dist-packages (from tensorflow>=1.12.1->witwidget) (0.2.0)\n",
            "Requirement already satisfied: opt-einsum>=2.3.2 in /usr/local/lib/python3.6/dist-packages (from tensorflow>=1.12.1->witwidget) (3.3.0)\n",
            "Requirement already satisfied: tensorflow-estimator<2.4.0,>=2.3.0 in /usr/local/lib/python3.6/dist-packages (from tensorflow>=1.12.1->witwidget) (2.3.0)\n",
            "Requirement already satisfied: keras-preprocessing<1.2,>=1.1.1 in /usr/local/lib/python3.6/dist-packages (from tensorflow>=1.12.1->witwidget) (1.1.2)\n",
            "Requirement already satisfied: protobuf>=3.9.2 in /usr/local/lib/python3.6/dist-packages (from tensorflow>=1.12.1->witwidget) (3.12.4)\n",
            "Requirement already satisfied: termcolor>=1.1.0 in /usr/local/lib/python3.6/dist-packages (from tensorflow>=1.12.1->witwidget) (1.1.0)\n",
            "Requirement already satisfied: wrapt>=1.11.1 in /usr/local/lib/python3.6/dist-packages (from tensorflow>=1.12.1->witwidget) (1.12.1)\n",
            "Requirement already satisfied: astunparse==1.6.3 in /usr/local/lib/python3.6/dist-packages (from tensorflow>=1.12.1->witwidget) (1.6.3)\n",
            "Requirement already satisfied: grpcio>=1.8.6 in /usr/local/lib/python3.6/dist-packages (from tensorflow>=1.12.1->witwidget) (1.31.0)\n",
            "Requirement already satisfied: wheel>=0.26 in /usr/local/lib/python3.6/dist-packages (from tensorflow>=1.12.1->witwidget) (0.35.1)\n",
            "Requirement already satisfied: scipy==1.4.1 in /usr/local/lib/python3.6/dist-packages (from tensorflow>=1.12.1->witwidget) (1.4.1)\n",
            "Requirement already satisfied: numpy<1.19.0,>=1.16.0 in /usr/local/lib/python3.6/dist-packages (from tensorflow>=1.12.1->witwidget) (1.18.5)\n",
            "Requirement already satisfied: h5py<2.11.0,>=2.10.0 in /usr/local/lib/python3.6/dist-packages (from tensorflow>=1.12.1->witwidget) (2.10.0)\n",
            "Requirement already satisfied: gast==0.3.3 in /usr/local/lib/python3.6/dist-packages (from tensorflow>=1.12.1->witwidget) (0.3.3)\n",
            "Requirement already satisfied: tensorboard<3,>=2.3.0 in /usr/local/lib/python3.6/dist-packages (from tensorflow>=1.12.1->witwidget) (2.3.0)\n",
            "Requirement already satisfied: notebook in /usr/local/lib/python3.6/dist-packages (from jupyter<2,>=1.0->witwidget) (5.3.1)\n",
            "Requirement already satisfied: jupyter-console in /usr/local/lib/python3.6/dist-packages (from jupyter<2,>=1.0->witwidget) (5.2.0)\n",
            "Requirement already satisfied: qtconsole in /usr/local/lib/python3.6/dist-packages (from jupyter<2,>=1.0->witwidget) (4.7.6)\n",
            "Requirement already satisfied: nbconvert in /usr/local/lib/python3.6/dist-packages (from jupyter<2,>=1.0->witwidget) (5.6.1)\n",
            "Requirement already satisfied: simplegeneric>0.8 in /usr/local/lib/python3.6/dist-packages (from ipython>=4.0.0; python_version >= \"3.3\"->ipywidgets>=7.0.0->witwidget) (0.8.1)\n",
            "Requirement already satisfied: pexpect; sys_platform != \"win32\" in /usr/local/lib/python3.6/dist-packages (from ipython>=4.0.0; python_version >= \"3.3\"->ipywidgets>=7.0.0->witwidget) (4.8.0)\n",
            "Requirement already satisfied: setuptools>=18.5 in /usr/local/lib/python3.6/dist-packages (from ipython>=4.0.0; python_version >= \"3.3\"->ipywidgets>=7.0.0->witwidget) (49.6.0)\n",
            "Requirement already satisfied: decorator in /usr/local/lib/python3.6/dist-packages (from ipython>=4.0.0; python_version >= \"3.3\"->ipywidgets>=7.0.0->witwidget) (4.4.2)\n",
            "Requirement already satisfied: prompt-toolkit<2.0.0,>=1.0.4 in /usr/local/lib/python3.6/dist-packages (from ipython>=4.0.0; python_version >= \"3.3\"->ipywidgets>=7.0.0->witwidget) (1.0.18)\n",
            "Requirement already satisfied: pickleshare in /usr/local/lib/python3.6/dist-packages (from ipython>=4.0.0; python_version >= \"3.3\"->ipywidgets>=7.0.0->witwidget) (0.7.5)\n",
            "Requirement already satisfied: pygments in /usr/local/lib/python3.6/dist-packages (from ipython>=4.0.0; python_version >= \"3.3\"->ipywidgets>=7.0.0->witwidget) (2.1.3)\n",
            "Requirement already satisfied: jupyter-client in /usr/local/lib/python3.6/dist-packages (from ipykernel>=4.5.1->ipywidgets>=7.0.0->witwidget) (5.3.5)\n",
            "Requirement already satisfied: tornado>=4.0 in /usr/local/lib/python3.6/dist-packages (from ipykernel>=4.5.1->ipywidgets>=7.0.0->witwidget) (5.1.1)\n",
            "Requirement already satisfied: ipython-genutils in /usr/local/lib/python3.6/dist-packages (from nbformat>=4.2.0->ipywidgets>=7.0.0->witwidget) (0.2.0)\n",
            "Requirement already satisfied: jsonschema!=2.5.0,>=2.4 in /usr/local/lib/python3.6/dist-packages (from nbformat>=4.2.0->ipywidgets>=7.0.0->witwidget) (2.6.0)\n",
            "Requirement already satisfied: jupyter-core in /usr/local/lib/python3.6/dist-packages (from nbformat>=4.2.0->ipywidgets>=7.0.0->witwidget) (4.6.3)\n",
            "Requirement already satisfied: cachetools<5.0,>=2.0.0 in /usr/local/lib/python3.6/dist-packages (from google-auth>=1.4.1->google-api-python-client>=1.7.8->witwidget) (4.1.1)\n",
            "Requirement already satisfied: werkzeug>=0.11.15 in /usr/local/lib/python3.6/dist-packages (from tensorboard<3,>=2.3.0->tensorflow>=1.12.1->witwidget) (1.0.1)\n",
            "Requirement already satisfied: google-auth-oauthlib<0.5,>=0.4.1 in /usr/local/lib/python3.6/dist-packages (from tensorboard<3,>=2.3.0->tensorflow>=1.12.1->witwidget) (0.4.1)\n",
            "Requirement already satisfied: requests<3,>=2.21.0 in /usr/local/lib/python3.6/dist-packages (from tensorboard<3,>=2.3.0->tensorflow>=1.12.1->witwidget) (2.23.0)\n",
            "Requirement already satisfied: markdown>=2.6.8 in /usr/local/lib/python3.6/dist-packages (from tensorboard<3,>=2.3.0->tensorflow>=1.12.1->witwidget) (3.2.2)\n",
            "Requirement already satisfied: tensorboard-plugin-wit>=1.6.0 in /usr/local/lib/python3.6/dist-packages (from tensorboard<3,>=2.3.0->tensorflow>=1.12.1->witwidget) (1.7.0)\n",
            "Requirement already satisfied: Send2Trash in /usr/local/lib/python3.6/dist-packages (from notebook->jupyter<2,>=1.0->witwidget) (1.5.0)\n",
            "Requirement already satisfied: jinja2 in /usr/local/lib/python3.6/dist-packages (from notebook->jupyter<2,>=1.0->witwidget) (2.11.2)\n",
            "Requirement already satisfied: terminado>=0.8.1 in /usr/local/lib/python3.6/dist-packages (from notebook->jupyter<2,>=1.0->witwidget) (0.8.3)\n",
            "Requirement already satisfied: qtpy in /usr/local/lib/python3.6/dist-packages (from qtconsole->jupyter<2,>=1.0->witwidget) (1.9.0)\n",
            "Requirement already satisfied: pyzmq>=17.1 in /usr/local/lib/python3.6/dist-packages (from qtconsole->jupyter<2,>=1.0->witwidget) (19.0.2)\n",
            "Requirement already satisfied: mistune<2,>=0.8.1 in /usr/local/lib/python3.6/dist-packages (from nbconvert->jupyter<2,>=1.0->witwidget) (0.8.4)\n",
            "Requirement already satisfied: testpath in /usr/local/lib/python3.6/dist-packages (from nbconvert->jupyter<2,>=1.0->witwidget) (0.4.4)\n",
            "Requirement already satisfied: entrypoints>=0.2.2 in /usr/local/lib/python3.6/dist-packages (from nbconvert->jupyter<2,>=1.0->witwidget) (0.3)\n",
            "Requirement already satisfied: pandocfilters>=1.4.1 in /usr/local/lib/python3.6/dist-packages (from nbconvert->jupyter<2,>=1.0->witwidget) (1.4.2)\n",
            "Requirement already satisfied: bleach in /usr/local/lib/python3.6/dist-packages (from nbconvert->jupyter<2,>=1.0->witwidget) (3.1.5)\n",
            "Requirement already satisfied: defusedxml in /usr/local/lib/python3.6/dist-packages (from nbconvert->jupyter<2,>=1.0->witwidget) (0.6.0)\n",
            "Requirement already satisfied: ptyprocess>=0.5 in /usr/local/lib/python3.6/dist-packages (from pexpect; sys_platform != \"win32\"->ipython>=4.0.0; python_version >= \"3.3\"->ipywidgets>=7.0.0->witwidget) (0.6.0)\n",
            "Requirement already satisfied: wcwidth in /usr/local/lib/python3.6/dist-packages (from prompt-toolkit<2.0.0,>=1.0.4->ipython>=4.0.0; python_version >= \"3.3\"->ipywidgets>=7.0.0->witwidget) (0.2.5)\n",
            "Requirement already satisfied: python-dateutil>=2.1 in /usr/local/lib/python3.6/dist-packages (from jupyter-client->ipykernel>=4.5.1->ipywidgets>=7.0.0->witwidget) (2.8.1)\n",
            "Requirement already satisfied: requests-oauthlib>=0.7.0 in /usr/local/lib/python3.6/dist-packages (from google-auth-oauthlib<0.5,>=0.4.1->tensorboard<3,>=2.3.0->tensorflow>=1.12.1->witwidget) (1.3.0)\n",
            "Requirement already satisfied: chardet<4,>=3.0.2 in /usr/local/lib/python3.6/dist-packages (from requests<3,>=2.21.0->tensorboard<3,>=2.3.0->tensorflow>=1.12.1->witwidget) (3.0.4)\n",
            "Requirement already satisfied: certifi>=2017.4.17 in /usr/local/lib/python3.6/dist-packages (from requests<3,>=2.21.0->tensorboard<3,>=2.3.0->tensorflow>=1.12.1->witwidget) (2020.6.20)\n",
            "Requirement already satisfied: idna<3,>=2.5 in /usr/local/lib/python3.6/dist-packages (from requests<3,>=2.21.0->tensorboard<3,>=2.3.0->tensorflow>=1.12.1->witwidget) (2.10)\n",
            "Requirement already satisfied: urllib3!=1.25.0,!=1.25.1,<1.26,>=1.21.1 in /usr/local/lib/python3.6/dist-packages (from requests<3,>=2.21.0->tensorboard<3,>=2.3.0->tensorflow>=1.12.1->witwidget) (1.24.3)\n",
            "Requirement already satisfied: importlib-metadata; python_version < \"3.8\" in /usr/local/lib/python3.6/dist-packages (from markdown>=2.6.8->tensorboard<3,>=2.3.0->tensorflow>=1.12.1->witwidget) (1.7.0)\n",
            "Requirement already satisfied: MarkupSafe>=0.23 in /usr/local/lib/python3.6/dist-packages (from jinja2->notebook->jupyter<2,>=1.0->witwidget) (1.1.1)\n",
            "Requirement already satisfied: packaging in /usr/local/lib/python3.6/dist-packages (from bleach->nbconvert->jupyter<2,>=1.0->witwidget) (20.4)\n",
            "Requirement already satisfied: webencodings in /usr/local/lib/python3.6/dist-packages (from bleach->nbconvert->jupyter<2,>=1.0->witwidget) (0.5.1)\n",
            "Requirement already satisfied: oauthlib>=3.0.0 in /usr/local/lib/python3.6/dist-packages (from requests-oauthlib>=0.7.0->google-auth-oauthlib<0.5,>=0.4.1->tensorboard<3,>=2.3.0->tensorflow>=1.12.1->witwidget) (3.1.0)\n",
            "Requirement already satisfied: zipp>=0.5 in /usr/local/lib/python3.6/dist-packages (from importlib-metadata; python_version < \"3.8\"->markdown>=2.6.8->tensorboard<3,>=2.3.0->tensorflow>=1.12.1->witwidget) (3.1.0)\n",
            "Requirement already satisfied: pyparsing>=2.0.2 in /usr/local/lib/python3.6/dist-packages (from packaging->bleach->nbconvert->jupyter<2,>=1.0->witwidget) (2.4.7)\n",
            "Installing collected packages: witwidget\n",
            "Successfully installed witwidget-1.7.0\n"
          ],
          "name": "stdout"
        }
      ]
    },
    {
      "cell_type": "code",
      "metadata": {
        "id": "JFmg-oNu3KiI",
        "colab_type": "code",
        "colab": {}
      },
      "source": [
        "import pandas as pd\n",
        "import numpy as np\n",
        "import collections\n",
        "import witwidget\n",
        "\n",
        "from sklearn.model_selection import train_test_split\n",
        "from sklearn.metrics import accuracy_score, confusion_matrix\n",
        "from sklearn.utils import shuffle\n",
        "from witwidget.notebook.visualization import WitWidget, WitConfigBuilder"
      ],
      "execution_count": 6,
      "outputs": []
    },
    {
      "cell_type": "code",
      "metadata": {
        "id": "nIk1R81k22Rp",
        "colab_type": "code",
        "colab": {
          "base_uri": "https://localhost:8080/",
          "height": 68
        },
        "outputId": "1754ed7d-d8eb-4d2d-c186-02ab816f9a2a"
      },
      "source": [
        "# Use a small subset of the data since the original dataset is too big for Colab (2.5GB)\n",
        "# Data source: https://www.ffiec.gov/hmda/hmdaflat.htm\n",
        "!gsutil cp gs://mortgage_dataset_files/mortgage-small.csv ."
      ],
      "execution_count": 7,
      "outputs": [
        {
          "output_type": "stream",
          "text": [
            "Copying gs://mortgage_dataset_files/mortgage-small.csv...\n",
            "/ [1 files][330.8 MiB/330.8 MiB]                                                \n",
            "Operation completed over 1 objects/330.8 MiB.                                    \n"
          ],
          "name": "stdout"
        }
      ]
    },
    {
      "cell_type": "code",
      "metadata": {
        "id": "p1NenLl73gaJ",
        "colab_type": "code",
        "colab": {}
      },
      "source": [
        "# Set column dtypes for Pandas\n",
        "COLUMN_NAMES = collections.OrderedDict({\n",
        "  'as_of_year': np.int16,\n",
        "  'agency_code': 'category',\n",
        "  'loan_type': 'category',\n",
        "  'property_type': 'category',\n",
        "  'loan_purpose': 'category',\n",
        "  'occupancy': np.int8,\n",
        "  'loan_amt_thousands': np.float64,\n",
        "  'preapproval': 'category',\n",
        "  'county_code': np.float64,\n",
        "  'applicant_income_thousands': np.float64,\n",
        "  'purchaser_type': 'category',\n",
        "  'hoepa_status': 'category',\n",
        "  'lien_status': 'category',\n",
        "  'population': np.float64,\n",
        "  'ffiec_median_fam_income': np.float64,\n",
        "  'tract_to_msa_income_pct': np.float64,\n",
        "  'num_owner_occupied_units': np.float64,\n",
        "  'num_1_to_4_family_units': np.float64,\n",
        "  'approved': np.int8\n",
        "})"
      ],
      "execution_count": 8,
      "outputs": []
    },
    {
      "cell_type": "code",
      "metadata": {
        "id": "ionaRHlr3igA",
        "colab_type": "code",
        "colab": {
          "base_uri": "https://localhost:8080/",
          "height": 564
        },
        "outputId": "5597debf-3a90-4216-8df6-0c61cbe3f7cc"
      },
      "source": [
        "# Load data into Pandas\n",
        "data = pd.read_csv('mortgage-small.csv', index_col=False, dtype=COLUMN_NAMES)\n",
        "data = data.dropna()\n",
        "data = shuffle(data, random_state=2)\n",
        "data.head()"
      ],
      "execution_count": 9,
      "outputs": [
        {
          "output_type": "execute_result",
          "data": {
            "text/html": [
              "<div>\n",
              "<style scoped>\n",
              "    .dataframe tbody tr th:only-of-type {\n",
              "        vertical-align: middle;\n",
              "    }\n",
              "\n",
              "    .dataframe tbody tr th {\n",
              "        vertical-align: top;\n",
              "    }\n",
              "\n",
              "    .dataframe thead th {\n",
              "        text-align: right;\n",
              "    }\n",
              "</style>\n",
              "<table border=\"1\" class=\"dataframe\">\n",
              "  <thead>\n",
              "    <tr style=\"text-align: right;\">\n",
              "      <th></th>\n",
              "      <th>as_of_year</th>\n",
              "      <th>agency_code</th>\n",
              "      <th>loan_type</th>\n",
              "      <th>property_type</th>\n",
              "      <th>loan_purpose</th>\n",
              "      <th>occupancy</th>\n",
              "      <th>loan_amt_thousands</th>\n",
              "      <th>preapproval</th>\n",
              "      <th>county_code</th>\n",
              "      <th>applicant_income_thousands</th>\n",
              "      <th>purchaser_type</th>\n",
              "      <th>hoepa_status</th>\n",
              "      <th>lien_status</th>\n",
              "      <th>population</th>\n",
              "      <th>ffiec_median_fam_income</th>\n",
              "      <th>tract_to_msa_income_pct</th>\n",
              "      <th>num_owner_occupied_units</th>\n",
              "      <th>num_1_to_4_family_units</th>\n",
              "      <th>approved</th>\n",
              "    </tr>\n",
              "  </thead>\n",
              "  <tbody>\n",
              "    <tr>\n",
              "      <th>310650</th>\n",
              "      <td>2016</td>\n",
              "      <td>Consumer Financial Protection Bureau (CFPB)</td>\n",
              "      <td>Conventional (any loan other than FHA, VA, FSA...</td>\n",
              "      <td>One to four-family (other than manufactured ho...</td>\n",
              "      <td>Refinancing</td>\n",
              "      <td>1</td>\n",
              "      <td>110.0</td>\n",
              "      <td>Not applicable</td>\n",
              "      <td>119.0</td>\n",
              "      <td>55.0</td>\n",
              "      <td>Freddie Mac (FHLMC)</td>\n",
              "      <td>Not a HOEPA loan</td>\n",
              "      <td>Secured by a first lien</td>\n",
              "      <td>5930.0</td>\n",
              "      <td>64100.0</td>\n",
              "      <td>98.81</td>\n",
              "      <td>1305.0</td>\n",
              "      <td>1631.0</td>\n",
              "      <td>1</td>\n",
              "    </tr>\n",
              "    <tr>\n",
              "      <th>630129</th>\n",
              "      <td>2016</td>\n",
              "      <td>Department of Housing and Urban Development (HUD)</td>\n",
              "      <td>Conventional (any loan other than FHA, VA, FSA...</td>\n",
              "      <td>One to four-family (other than manufactured ho...</td>\n",
              "      <td>Home purchase</td>\n",
              "      <td>1</td>\n",
              "      <td>480.0</td>\n",
              "      <td>Not applicable</td>\n",
              "      <td>33.0</td>\n",
              "      <td>270.0</td>\n",
              "      <td>Loan was not originated or was not sold in cal...</td>\n",
              "      <td>Not a HOEPA loan</td>\n",
              "      <td>Secured by a first lien</td>\n",
              "      <td>4791.0</td>\n",
              "      <td>90300.0</td>\n",
              "      <td>144.06</td>\n",
              "      <td>1420.0</td>\n",
              "      <td>1450.0</td>\n",
              "      <td>0</td>\n",
              "    </tr>\n",
              "    <tr>\n",
              "      <th>715484</th>\n",
              "      <td>2016</td>\n",
              "      <td>Federal Deposit Insurance Corporation (FDIC)</td>\n",
              "      <td>Conventional (any loan other than FHA, VA, FSA...</td>\n",
              "      <td>One to four-family (other than manufactured ho...</td>\n",
              "      <td>Refinancing</td>\n",
              "      <td>2</td>\n",
              "      <td>240.0</td>\n",
              "      <td>Not applicable</td>\n",
              "      <td>59.0</td>\n",
              "      <td>96.0</td>\n",
              "      <td>Commercial bank, savings bank or savings assoc...</td>\n",
              "      <td>Not a HOEPA loan</td>\n",
              "      <td>Secured by a first lien</td>\n",
              "      <td>3439.0</td>\n",
              "      <td>105700.0</td>\n",
              "      <td>104.62</td>\n",
              "      <td>853.0</td>\n",
              "      <td>1076.0</td>\n",
              "      <td>1</td>\n",
              "    </tr>\n",
              "    <tr>\n",
              "      <th>887708</th>\n",
              "      <td>2016</td>\n",
              "      <td>Office of the Comptroller of the Currency (OCC)</td>\n",
              "      <td>Conventional (any loan other than FHA, VA, FSA...</td>\n",
              "      <td>One to four-family (other than manufactured ho...</td>\n",
              "      <td>Refinancing</td>\n",
              "      <td>1</td>\n",
              "      <td>76.0</td>\n",
              "      <td>Not applicable</td>\n",
              "      <td>65.0</td>\n",
              "      <td>85.0</td>\n",
              "      <td>Loan was not originated or was not sold in cal...</td>\n",
              "      <td>Not a HOEPA loan</td>\n",
              "      <td>Secured by a subordinate lien</td>\n",
              "      <td>3952.0</td>\n",
              "      <td>61300.0</td>\n",
              "      <td>90.93</td>\n",
              "      <td>1272.0</td>\n",
              "      <td>1666.0</td>\n",
              "      <td>1</td>\n",
              "    </tr>\n",
              "    <tr>\n",
              "      <th>719598</th>\n",
              "      <td>2016</td>\n",
              "      <td>National Credit Union Administration (NCUA)</td>\n",
              "      <td>Conventional (any loan other than FHA, VA, FSA...</td>\n",
              "      <td>One to four-family (other than manufactured ho...</td>\n",
              "      <td>Refinancing</td>\n",
              "      <td>1</td>\n",
              "      <td>100.0</td>\n",
              "      <td>Not applicable</td>\n",
              "      <td>127.0</td>\n",
              "      <td>70.0</td>\n",
              "      <td>Loan was not originated or was not sold in cal...</td>\n",
              "      <td>Not a HOEPA loan</td>\n",
              "      <td>Secured by a first lien</td>\n",
              "      <td>2422.0</td>\n",
              "      <td>46400.0</td>\n",
              "      <td>88.37</td>\n",
              "      <td>650.0</td>\n",
              "      <td>1006.0</td>\n",
              "      <td>1</td>\n",
              "    </tr>\n",
              "  </tbody>\n",
              "</table>\n",
              "</div>"
            ],
            "text/plain": [
              "        as_of_year  ... approved\n",
              "310650        2016  ...        1\n",
              "630129        2016  ...        0\n",
              "715484        2016  ...        1\n",
              "887708        2016  ...        1\n",
              "719598        2016  ...        1\n",
              "\n",
              "[5 rows x 19 columns]"
            ]
          },
          "metadata": {
            "tags": []
          },
          "execution_count": 9
        }
      ]
    },
    {
      "cell_type": "code",
      "metadata": {
        "id": "FFgC9XF_3u68",
        "colab_type": "code",
        "colab": {
          "base_uri": "https://localhost:8080/",
          "height": 68
        },
        "outputId": "36c55f6b-015c-4728-e839-b7840769ba39"
      },
      "source": [
        "# Label preprocessing\n",
        "labels = data['approved'].values\n",
        "\n",
        "# See the distribution of approved / denied classes (0: denied, 1: approved)\n",
        "print(data['approved'].value_counts())"
      ],
      "execution_count": 10,
      "outputs": [
        {
          "output_type": "stream",
          "text": [
            "1    665389\n",
            "0    334610\n",
            "Name: approved, dtype: int64\n"
          ],
          "name": "stdout"
        }
      ]
    },
    {
      "cell_type": "markdown",
      "metadata": {
        "id": "9cTgV5grvd_w",
        "colab_type": "text"
      },
      "source": [
        ""
      ]
    },
    {
      "cell_type": "code",
      "metadata": {
        "id": "JIAcJWbF3zzB",
        "colab_type": "code",
        "colab": {}
      },
      "source": [
        "data = data.drop(columns=['approved'])"
      ],
      "execution_count": 11,
      "outputs": []
    },
    {
      "cell_type": "code",
      "metadata": {
        "id": "rQ93vtMp36wY",
        "colab_type": "code",
        "colab": {}
      },
      "source": [
        "# Convert categorical columns to dummy columns\n",
        "dummy_columns = list(data.dtypes[data.dtypes == 'category'].index)\n",
        "data = pd.get_dummies(data, columns=dummy_columns)"
      ],
      "execution_count": 12,
      "outputs": []
    },
    {
      "cell_type": "code",
      "metadata": {
        "id": "XULiO8HA3_D7",
        "colab_type": "code",
        "colab": {
          "base_uri": "https://localhost:8080/",
          "height": 292
        },
        "outputId": "9a615b99-d13f-4203-8eeb-08b99524d057"
      },
      "source": [
        "# Preview the data\n",
        "data.head()"
      ],
      "execution_count": 13,
      "outputs": [
        {
          "output_type": "execute_result",
          "data": {
            "text/html": [
              "<div>\n",
              "<style scoped>\n",
              "    .dataframe tbody tr th:only-of-type {\n",
              "        vertical-align: middle;\n",
              "    }\n",
              "\n",
              "    .dataframe tbody tr th {\n",
              "        vertical-align: top;\n",
              "    }\n",
              "\n",
              "    .dataframe thead th {\n",
              "        text-align: right;\n",
              "    }\n",
              "</style>\n",
              "<table border=\"1\" class=\"dataframe\">\n",
              "  <thead>\n",
              "    <tr style=\"text-align: right;\">\n",
              "      <th></th>\n",
              "      <th>as_of_year</th>\n",
              "      <th>occupancy</th>\n",
              "      <th>loan_amt_thousands</th>\n",
              "      <th>county_code</th>\n",
              "      <th>applicant_income_thousands</th>\n",
              "      <th>population</th>\n",
              "      <th>ffiec_median_fam_income</th>\n",
              "      <th>tract_to_msa_income_pct</th>\n",
              "      <th>num_owner_occupied_units</th>\n",
              "      <th>num_1_to_4_family_units</th>\n",
              "      <th>agency_code_Consumer Financial Protection Bureau (CFPB)</th>\n",
              "      <th>agency_code_Department of Housing and Urban Development (HUD)</th>\n",
              "      <th>agency_code_Federal Deposit Insurance Corporation (FDIC)</th>\n",
              "      <th>agency_code_Federal Reserve System (FRS)</th>\n",
              "      <th>agency_code_National Credit Union Administration (NCUA)</th>\n",
              "      <th>agency_code_Office of the Comptroller of the Currency (OCC)</th>\n",
              "      <th>loan_type_Conventional (any loan other than FHA, VA, FSA, or RHS loans)</th>\n",
              "      <th>loan_type_FHA-insured (Federal Housing Administration)</th>\n",
              "      <th>loan_type_FSA/RHS (Farm Service Agency or Rural Housing Service)</th>\n",
              "      <th>loan_type_VA-guaranteed (Veterans Administration)</th>\n",
              "      <th>property_type_Manufactured housing</th>\n",
              "      <th>property_type_One to four-family (other than manufactured housing)</th>\n",
              "      <th>loan_purpose_Home improvement</th>\n",
              "      <th>loan_purpose_Home purchase</th>\n",
              "      <th>loan_purpose_Refinancing</th>\n",
              "      <th>preapproval_Not applicable</th>\n",
              "      <th>preapproval_Preapproval was not requested</th>\n",
              "      <th>preapproval_Preapproval was requested</th>\n",
              "      <th>purchaser_type_Affiliate institution</th>\n",
              "      <th>purchaser_type_Commercial bank, savings bank or savings association</th>\n",
              "      <th>purchaser_type_Fannie Mae (FNMA)</th>\n",
              "      <th>purchaser_type_Farmer Mac (FAMC)</th>\n",
              "      <th>purchaser_type_Freddie Mac (FHLMC)</th>\n",
              "      <th>purchaser_type_Ginnie Mae (GNMA)</th>\n",
              "      <th>purchaser_type_Life insurance company, credit union, mortgage bank, or finance company</th>\n",
              "      <th>purchaser_type_Loan was not originated or was not sold in calendar year covered by register</th>\n",
              "      <th>purchaser_type_Other type of purchaser</th>\n",
              "      <th>purchaser_type_Private securitization</th>\n",
              "      <th>hoepa_status_HOEPA loan</th>\n",
              "      <th>hoepa_status_Not a HOEPA loan</th>\n",
              "      <th>lien_status_Not applicable (purchased loans)</th>\n",
              "      <th>lien_status_Not secured by a lien</th>\n",
              "      <th>lien_status_Secured by a first lien</th>\n",
              "      <th>lien_status_Secured by a subordinate lien</th>\n",
              "    </tr>\n",
              "  </thead>\n",
              "  <tbody>\n",
              "    <tr>\n",
              "      <th>310650</th>\n",
              "      <td>2016</td>\n",
              "      <td>1</td>\n",
              "      <td>110.0</td>\n",
              "      <td>119.0</td>\n",
              "      <td>55.0</td>\n",
              "      <td>5930.0</td>\n",
              "      <td>64100.0</td>\n",
              "      <td>98.81</td>\n",
              "      <td>1305.0</td>\n",
              "      <td>1631.0</td>\n",
              "      <td>1</td>\n",
              "      <td>0</td>\n",
              "      <td>0</td>\n",
              "      <td>0</td>\n",
              "      <td>0</td>\n",
              "      <td>0</td>\n",
              "      <td>1</td>\n",
              "      <td>0</td>\n",
              "      <td>0</td>\n",
              "      <td>0</td>\n",
              "      <td>0</td>\n",
              "      <td>1</td>\n",
              "      <td>0</td>\n",
              "      <td>0</td>\n",
              "      <td>1</td>\n",
              "      <td>1</td>\n",
              "      <td>0</td>\n",
              "      <td>0</td>\n",
              "      <td>0</td>\n",
              "      <td>0</td>\n",
              "      <td>0</td>\n",
              "      <td>0</td>\n",
              "      <td>1</td>\n",
              "      <td>0</td>\n",
              "      <td>0</td>\n",
              "      <td>0</td>\n",
              "      <td>0</td>\n",
              "      <td>0</td>\n",
              "      <td>0</td>\n",
              "      <td>1</td>\n",
              "      <td>0</td>\n",
              "      <td>0</td>\n",
              "      <td>1</td>\n",
              "      <td>0</td>\n",
              "    </tr>\n",
              "    <tr>\n",
              "      <th>630129</th>\n",
              "      <td>2016</td>\n",
              "      <td>1</td>\n",
              "      <td>480.0</td>\n",
              "      <td>33.0</td>\n",
              "      <td>270.0</td>\n",
              "      <td>4791.0</td>\n",
              "      <td>90300.0</td>\n",
              "      <td>144.06</td>\n",
              "      <td>1420.0</td>\n",
              "      <td>1450.0</td>\n",
              "      <td>0</td>\n",
              "      <td>1</td>\n",
              "      <td>0</td>\n",
              "      <td>0</td>\n",
              "      <td>0</td>\n",
              "      <td>0</td>\n",
              "      <td>1</td>\n",
              "      <td>0</td>\n",
              "      <td>0</td>\n",
              "      <td>0</td>\n",
              "      <td>0</td>\n",
              "      <td>1</td>\n",
              "      <td>0</td>\n",
              "      <td>1</td>\n",
              "      <td>0</td>\n",
              "      <td>1</td>\n",
              "      <td>0</td>\n",
              "      <td>0</td>\n",
              "      <td>0</td>\n",
              "      <td>0</td>\n",
              "      <td>0</td>\n",
              "      <td>0</td>\n",
              "      <td>0</td>\n",
              "      <td>0</td>\n",
              "      <td>0</td>\n",
              "      <td>1</td>\n",
              "      <td>0</td>\n",
              "      <td>0</td>\n",
              "      <td>0</td>\n",
              "      <td>1</td>\n",
              "      <td>0</td>\n",
              "      <td>0</td>\n",
              "      <td>1</td>\n",
              "      <td>0</td>\n",
              "    </tr>\n",
              "    <tr>\n",
              "      <th>715484</th>\n",
              "      <td>2016</td>\n",
              "      <td>2</td>\n",
              "      <td>240.0</td>\n",
              "      <td>59.0</td>\n",
              "      <td>96.0</td>\n",
              "      <td>3439.0</td>\n",
              "      <td>105700.0</td>\n",
              "      <td>104.62</td>\n",
              "      <td>853.0</td>\n",
              "      <td>1076.0</td>\n",
              "      <td>0</td>\n",
              "      <td>0</td>\n",
              "      <td>1</td>\n",
              "      <td>0</td>\n",
              "      <td>0</td>\n",
              "      <td>0</td>\n",
              "      <td>1</td>\n",
              "      <td>0</td>\n",
              "      <td>0</td>\n",
              "      <td>0</td>\n",
              "      <td>0</td>\n",
              "      <td>1</td>\n",
              "      <td>0</td>\n",
              "      <td>0</td>\n",
              "      <td>1</td>\n",
              "      <td>1</td>\n",
              "      <td>0</td>\n",
              "      <td>0</td>\n",
              "      <td>0</td>\n",
              "      <td>1</td>\n",
              "      <td>0</td>\n",
              "      <td>0</td>\n",
              "      <td>0</td>\n",
              "      <td>0</td>\n",
              "      <td>0</td>\n",
              "      <td>0</td>\n",
              "      <td>0</td>\n",
              "      <td>0</td>\n",
              "      <td>0</td>\n",
              "      <td>1</td>\n",
              "      <td>0</td>\n",
              "      <td>0</td>\n",
              "      <td>1</td>\n",
              "      <td>0</td>\n",
              "    </tr>\n",
              "    <tr>\n",
              "      <th>887708</th>\n",
              "      <td>2016</td>\n",
              "      <td>1</td>\n",
              "      <td>76.0</td>\n",
              "      <td>65.0</td>\n",
              "      <td>85.0</td>\n",
              "      <td>3952.0</td>\n",
              "      <td>61300.0</td>\n",
              "      <td>90.93</td>\n",
              "      <td>1272.0</td>\n",
              "      <td>1666.0</td>\n",
              "      <td>0</td>\n",
              "      <td>0</td>\n",
              "      <td>0</td>\n",
              "      <td>0</td>\n",
              "      <td>0</td>\n",
              "      <td>1</td>\n",
              "      <td>1</td>\n",
              "      <td>0</td>\n",
              "      <td>0</td>\n",
              "      <td>0</td>\n",
              "      <td>0</td>\n",
              "      <td>1</td>\n",
              "      <td>0</td>\n",
              "      <td>0</td>\n",
              "      <td>1</td>\n",
              "      <td>1</td>\n",
              "      <td>0</td>\n",
              "      <td>0</td>\n",
              "      <td>0</td>\n",
              "      <td>0</td>\n",
              "      <td>0</td>\n",
              "      <td>0</td>\n",
              "      <td>0</td>\n",
              "      <td>0</td>\n",
              "      <td>0</td>\n",
              "      <td>1</td>\n",
              "      <td>0</td>\n",
              "      <td>0</td>\n",
              "      <td>0</td>\n",
              "      <td>1</td>\n",
              "      <td>0</td>\n",
              "      <td>0</td>\n",
              "      <td>0</td>\n",
              "      <td>1</td>\n",
              "    </tr>\n",
              "    <tr>\n",
              "      <th>719598</th>\n",
              "      <td>2016</td>\n",
              "      <td>1</td>\n",
              "      <td>100.0</td>\n",
              "      <td>127.0</td>\n",
              "      <td>70.0</td>\n",
              "      <td>2422.0</td>\n",
              "      <td>46400.0</td>\n",
              "      <td>88.37</td>\n",
              "      <td>650.0</td>\n",
              "      <td>1006.0</td>\n",
              "      <td>0</td>\n",
              "      <td>0</td>\n",
              "      <td>0</td>\n",
              "      <td>0</td>\n",
              "      <td>1</td>\n",
              "      <td>0</td>\n",
              "      <td>1</td>\n",
              "      <td>0</td>\n",
              "      <td>0</td>\n",
              "      <td>0</td>\n",
              "      <td>0</td>\n",
              "      <td>1</td>\n",
              "      <td>0</td>\n",
              "      <td>0</td>\n",
              "      <td>1</td>\n",
              "      <td>1</td>\n",
              "      <td>0</td>\n",
              "      <td>0</td>\n",
              "      <td>0</td>\n",
              "      <td>0</td>\n",
              "      <td>0</td>\n",
              "      <td>0</td>\n",
              "      <td>0</td>\n",
              "      <td>0</td>\n",
              "      <td>0</td>\n",
              "      <td>1</td>\n",
              "      <td>0</td>\n",
              "      <td>0</td>\n",
              "      <td>0</td>\n",
              "      <td>1</td>\n",
              "      <td>0</td>\n",
              "      <td>0</td>\n",
              "      <td>1</td>\n",
              "      <td>0</td>\n",
              "    </tr>\n",
              "  </tbody>\n",
              "</table>\n",
              "</div>"
            ],
            "text/plain": [
              "        as_of_year  ...  lien_status_Secured by a subordinate lien\n",
              "310650        2016  ...                                          0\n",
              "630129        2016  ...                                          0\n",
              "715484        2016  ...                                          0\n",
              "887708        2016  ...                                          1\n",
              "719598        2016  ...                                          0\n",
              "\n",
              "[5 rows x 44 columns]"
            ]
          },
          "metadata": {
            "tags": []
          },
          "execution_count": 13
        }
      ]
    },
    {
      "cell_type": "code",
      "metadata": {
        "id": "TI4p0vUu4BJN",
        "colab_type": "code",
        "colab": {}
      },
      "source": [
        "# Split the data into train / test sets\n",
        "x,y = data,labels\n",
        "x_train,x_test,y_train,y_test = train_test_split(x,y)"
      ],
      "execution_count": 14,
      "outputs": []
    },
    {
      "cell_type": "code",
      "metadata": {
        "id": "i0CsW-pF4PFs",
        "colab_type": "code",
        "colab": {
          "base_uri": "https://localhost:8080/",
          "height": 204
        },
        "outputId": "522c1f19-fe80-4a8e-de5c-ea5cf7c63c65"
      },
      "source": [
        "import xgboost as xgb\n",
        "# Train the model, this will take a few minutes to run\n",
        "bst = xgb.XGBClassifier(\n",
        "    objective='reg:logistic'\n",
        ")\n",
        "\n",
        "%time bst.fit(x_train, y_train,verbose= True)"
      ],
      "execution_count": 15,
      "outputs": [
        {
          "output_type": "stream",
          "text": [
            "CPU times: user 5min 9s, sys: 379 ms, total: 5min 9s\n",
            "Wall time: 2min 37s\n"
          ],
          "name": "stdout"
        },
        {
          "output_type": "execute_result",
          "data": {
            "text/plain": [
              "XGBClassifier(base_score=0.5, booster='gbtree', colsample_bylevel=1,\n",
              "              colsample_bynode=1, colsample_bytree=1, gamma=0, gpu_id=-1,\n",
              "              importance_type='gain', interaction_constraints='',\n",
              "              learning_rate=0.300000012, max_delta_step=0, max_depth=6,\n",
              "              min_child_weight=1, missing=nan, monotone_constraints='()',\n",
              "              n_estimators=100, n_jobs=0, num_parallel_tree=1,\n",
              "              objective='reg:logistic', random_state=0, reg_alpha=0,\n",
              "              reg_lambda=1, scale_pos_weight=1, subsample=1,\n",
              "              tree_method='exact', validate_parameters=1, verbosity=None)"
            ]
          },
          "metadata": {
            "tags": []
          },
          "execution_count": 15
        }
      ]
    },
    {
      "cell_type": "code",
      "metadata": {
        "id": "IYFcevdi4mn1",
        "colab_type": "code",
        "colab": {
          "base_uri": "https://localhost:8080/",
          "height": 51
        },
        "outputId": "caed5fc1-7032-4906-d09a-c0b716daa972"
      },
      "source": [
        "# Get predictions on the test set and print the accuracy score\n",
        "y_pred = bst.predict(x_test)\n",
        "acc = accuracy_score(y_test, y_pred.round())\n",
        "print(acc, '\\n')"
      ],
      "execution_count": 16,
      "outputs": [
        {
          "output_type": "stream",
          "text": [
            "0.872556 \n",
            "\n"
          ],
          "name": "stdout"
        }
      ]
    },
    {
      "cell_type": "code",
      "metadata": {
        "colab_type": "code",
        "id": "0YNhqfWpBGLK",
        "colab": {
          "base_uri": "https://localhost:8080/",
          "height": 68
        },
        "outputId": "8f118192-4d6e-453a-9021-30f55cfdb00d"
      },
      "source": [
        "# Print a confusion matrix\n",
        "print('Confusion matrix:')\n",
        "cm = confusion_matrix(y_test, y_pred.round())\n",
        "cm = cm / cm.astype(np.float).sum(axis=1)\n",
        "print(cm)"
      ],
      "execution_count": 17,
      "outputs": [
        {
          "output_type": "stream",
          "text": [
            "Confusion matrix:\n",
            "[[0.8509671  0.07515359]\n",
            " [0.23113821 0.88344274]]\n"
          ],
          "name": "stdout"
        }
      ]
    },
    {
      "cell_type": "code",
      "metadata": {
        "id": "eb74Zqz44SJR",
        "colab_type": "code",
        "colab": {}
      },
      "source": [
        "# Save the model so we can deploy it\n",
        "bst.save_model('model.bst')"
      ],
      "execution_count": 18,
      "outputs": []
    },
    {
      "cell_type": "code",
      "metadata": {
        "id": "-oQxivbd4u3t",
        "colab_type": "code",
        "colab": {}
      },
      "source": [
        ""
      ],
      "execution_count": 18,
      "outputs": []
    }
  ]
}